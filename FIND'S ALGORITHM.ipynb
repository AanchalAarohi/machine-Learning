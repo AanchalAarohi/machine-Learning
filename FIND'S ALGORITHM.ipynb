{
 "cells": [
  {
   "cell_type": "code",
   "execution_count": 1,
   "id": "e2f7fbd3",
   "metadata": {},
   "outputs": [],
   "source": [
    "import pandas as pd\n",
    "import numpy as np"
   ]
  },
  {
   "cell_type": "code",
   "execution_count": 2,
   "id": "9be67398",
   "metadata": {},
   "outputs": [
    {
     "name": "stdout",
     "output_type": "stream",
     "text": [
      "   eg    sky airterm humadity    wind water forcaste enjoy sport\n",
      "0   1  sunny    warm   normal  strong  warm    same          yes\n",
      "1   2  sunny    warm     high  strong  warm    same          yes\n",
      "2   3  rainy    cold     high  strong  warm    same           no\n",
      "3   4  sunny    warm     high  strong  cool   change         yes n\n"
     ]
    }
   ],
   "source": [
    "data=pd.read_csv(\"C:/Users/HP/Desktop/data.csv\")\n",
    "print(data,\"n\")"
   ]
  },
  {
   "cell_type": "code",
   "execution_count": 3,
   "id": "399b4b28",
   "metadata": {},
   "outputs": [
    {
     "name": "stdout",
     "output_type": "stream",
     "text": [
      "n the attributes are :  [[1 'sunny' 'warm' 'normal' 'strong' 'warm' 'same ']\n",
      " [2 'sunny' 'warm' 'high' 'strong' 'warm' 'same ']\n",
      " [3 'rainy' 'cold' 'high' 'strong' 'warm' 'same ']\n",
      " [4 'sunny' 'warm' 'high' 'strong' 'cool' 'change']]\n"
     ]
    }
   ],
   "source": [
    "d = np.array(data)[:,:-1]\n",
    "print(\"n the attributes are : \",d)"
   ]
  },
  {
   "cell_type": "code",
   "execution_count": 4,
   "id": "8422d70d",
   "metadata": {},
   "outputs": [
    {
     "name": "stdout",
     "output_type": "stream",
     "text": [
      "n the target is :  ['yes' 'yes' 'no' 'yes']\n"
     ]
    }
   ],
   "source": [
    "target = np.array(data)[:,-1]\n",
    "print(\"n the target is : \",target)"
   ]
  },
  {
   "cell_type": "code",
   "execution_count": 5,
   "id": "7b3064fe",
   "metadata": {},
   "outputs": [
    {
     "name": "stdout",
     "output_type": "stream",
     "text": [
      "n the final hypothesis is: ['?' 'sunny' 'warm' '?' 'strong' '?' '?']\n"
     ]
    }
   ],
   "source": [
    "def train(c,t):\n",
    "    for i, val in enumerate(t):\n",
    "        if val== \"yes\":\n",
    "            specific_hypothesis = c[i].copy()\n",
    "            break\n",
    "            \n",
    "    for i, val in enumerate(c):\n",
    "        if t[i]== \"yes\":\n",
    "            for x in range(len(specific_hypothesis)):\n",
    "                if val[x]!=specific_hypothesis[x]:\n",
    "                    specific_hypothesis[x]='?'\n",
    "                else:\n",
    "                    pass\n",
    "    return specific_hypothesis\n",
    "print(\"n the final hypothesis is:\",train(d,target))"
   ]
  },
  {
   "cell_type": "code",
   "execution_count": null,
   "id": "2f763b92",
   "metadata": {},
   "outputs": [],
   "source": []
  }
 ],
 "metadata": {
  "kernelspec": {
   "display_name": "Python 3 (ipykernel)",
   "language": "python",
   "name": "python3"
  },
  "language_info": {
   "codemirror_mode": {
    "name": "ipython",
    "version": 3
   },
   "file_extension": ".py",
   "mimetype": "text/x-python",
   "name": "python",
   "nbconvert_exporter": "python",
   "pygments_lexer": "ipython3",
   "version": "3.10.9"
  }
 },
 "nbformat": 4,
 "nbformat_minor": 5
}
